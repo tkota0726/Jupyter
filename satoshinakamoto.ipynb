{
  "cells": [
    {
      "metadata": {},
      "cell_type": "markdown",
      "source": "Satoshi Nakamoto Thesis https://bitcoin.org/bitcoin.pdf"
    },
    {
      "metadata": {
        "trusted": true
      },
      "cell_type": "code",
      "source": "import numpy as np\nimport math\n\ndef ASP(q, z):\n    p = 1.0 - q;\n    l = z * (q / p)\n    s = 1.0\n    i = 1\n    k = 0\n    for k in range(z+1):\n        poisson = math.exp(-l)\n        for i in range(1, k+1):\n            poisson *= l / i\n        s -= poisson * (1 - math.pow(q / p, z - k))\n    return s\n\n\nif __name__ == '__main__':\n    for q in range(4):\n        print('q={:.1f}'.format(0.1*q))\n        if q == 0:\n            pass\n        else:\n            for z in range(0,55,5):\n                print(\"z={:.1f}\".format(z),\" \",\"★P={:.10f}\".format(ASP(0.1*q,z)))",
      "execution_count": 2,
      "outputs": [
        {
          "name": "stdout",
          "output_type": "stream",
          "text": "q=0.0\nq=0.1\nz=0.0   ★P=1.0000000000\nz=5.0   ★P=0.0009136822\nz=10.0   ★P=0.0000012414\nz=15.0   ★P=0.0000000017\nz=20.0   ★P=0.0000000000\nz=25.0   ★P=0.0000000000\nz=30.0   ★P=-0.0000000000\nz=35.0   ★P=-0.0000000000\nz=40.0   ★P=-0.0000000000\nz=45.0   ★P=-0.0000000000\nz=50.0   ★P=0.0000000000\nq=0.2\nz=0.0   ★P=1.0000000000\nz=5.0   ★P=0.0274155401\nz=10.0   ★P=0.0010669528\nz=15.0   ★P=0.0000428716\nz=20.0   ★P=0.0000017434\nz=25.0   ★P=0.0000000713\nz=30.0   ★P=0.0000000029\nz=35.0   ★P=0.0000000001\nz=40.0   ★P=0.0000000000\nz=45.0   ★P=0.0000000000\nz=50.0   ★P=0.0000000000\nq=0.3\nz=0.0   ★P=1.0000000000\nz=5.0   ★P=0.1773523114\nz=10.0   ★P=0.0416604800\nz=15.0   ★P=0.0101007622\nz=20.0   ★P=0.0024803982\nz=25.0   ★P=0.0006132284\nz=30.0   ★P=0.0001522339\nz=35.0   ★P=0.0000378958\nz=40.0   ★P=0.0000094517\nz=45.0   ★P=0.0000023608\nz=50.0   ★P=0.0000005903\n"
        }
      ]
    }
  ],
  "metadata": {
    "_draft": {
      "nbviewer_url": "https://gist.github.com/2991dd6af3dc1cfeae3f08baab399eb0"
    },
    "gist": {
      "id": "2991dd6af3dc1cfeae3f08baab399eb0",
      "data": {
        "description": "SatoshiNakamoro_Thesis.ipynb",
        "public": false
      }
    },
    "kernelspec": {
      "name": "python3",
      "display_name": "Python 3",
      "language": "python"
    },
    "language_info": {
      "name": "python",
      "version": "3.6.2",
      "mimetype": "text/x-python",
      "codemirror_mode": {
        "name": "ipython",
        "version": 3
      },
      "pygments_lexer": "ipython3",
      "nbconvert_exporter": "python",
      "file_extension": ".py"
    },
    "toc": {
      "nav_menu": {},
      "number_sections": true,
      "sideBar": true,
      "skip_h1_title": false,
      "toc_cell": false,
      "toc_position": {},
      "toc_section_display": "block",
      "toc_window_display": false
    }
  },
  "nbformat": 4,
  "nbformat_minor": 2
}
