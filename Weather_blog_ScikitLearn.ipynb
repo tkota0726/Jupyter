{
  "nbformat": 4,
  "nbformat_minor": 0,
  "metadata": {
    "colab": {
      "name": "Weather-blog-ScikitLearn.ipynb",
      "version": "0.3.2",
      "provenance": [],
      "private_outputs": true,
      "collapsed_sections": [],
      "include_colab_link": true
    },
    "kernelspec": {
      "name": "python3",
      "display_name": "Python 3"
    },
    "accelerator": "GPU"
  },
  "cells": [
    {
      "cell_type": "markdown",
      "metadata": {
        "id": "view-in-github",
        "colab_type": "text"
      },
      "source": [
        "<a href=\"https://colab.research.google.com/github/tkota0726/Jupyter/blob/master/Weather_blog_ScikitLearn.ipynb\" target=\"_parent\"><img src=\"https://colab.research.google.com/assets/colab-badge.svg\" alt=\"Open In Colab\"/></a>"
      ]
    },
    {
      "metadata": {
        "id": "ZlbekDLNDcUC",
        "colab_type": "text"
      },
      "cell_type": "markdown",
      "source": [
        "- 入力値\n",
        "  - 4日前のPV\n",
        "  - 3日前のPV\n",
        "  - 2日前のPV\n",
        "  - 1日前のPV\n",
        "  \n",
        "  Data Description\n",
        "  \"# Renewables.ninja PV (hourly data, 1985-2016) - ninja_pv_country_EE_merra-2_corrected - Version: 1.1 - License: https://creativecommons.org/licenses/by-nc/4.0/ - Reference: https://doi.org/10.1016/j.energy.2016.08.060\",\n",
        "\"# Units: time in UTC, other columns are capacity factors [0-1].  Bias corrected using national generation data.\",\n",
        "  \n",
        "  \"# Renewables.ninja Weather (hourly data, 1980-2016) - Estonia - ninja_weather_country_EE_merra-2_population_weighted.csv - Version: 1.0 - License: https://science.nasa.gov/earth-science/earth-science-data/data-information-policy - Reference: https://doi.org/10.1175/JCLI-D-16-0758.1\",,,,,,,,\n",
        "\"# Units: time in UTC, other columns are average weather variables, population weighted. precipitation in mm/hour (PRECTOTLAND in MERRA-2). temperature at 2 metres above ground in degrees C (T2M in MERRA-2). irradiance at ground level (_surface) and top of atmosphere (_toa) in W/m^2 (SWGDN and SWTDN in MERRA-2). snowfall in mm/hour (PRECSNOLAND in MERRA-2). snow_depth in cm (SNODP in MERRA-2). cloud_cover as a fraction [0,1] (CLDTOT in MERRA-2). air_density at ground level in kg/m^3 (RHOA in MERRA-2).\",,,,,,,,"
      ]
    },
    {
      "metadata": {
        "id": "a1rEfq5wD7RU",
        "colab_type": "code",
        "colab": {}
      },
      "cell_type": "code",
      "source": [
        "from math import sqrt\n",
        "from numpy import concatenate\n",
        "import matplotlib.pyplot as plt\n",
        "import pandas as pd\n",
        "from pandas import Series\n",
        "from datetime import datetime\n",
        "import numpy as np\n",
        "import time\n",
        "from google.colab import auth\n",
        "from oauth2client.client import GoogleCredentials\n",
        "from google.colab import drive\n",
        "from google.colab import files\n",
        "import os.path\n",
        "\n",
        "!pip install pydrive\n",
        "import pydrive\n",
        "from pydrive.auth import GoogleAuth\n",
        "from pydrive.drive import GoogleDrive\n",
        "\n",
        "%matplotlib inline\n",
        "drive.mount('/content/gdrive')"
      ],
      "execution_count": 0,
      "outputs": []
    },
    {
      "metadata": {
        "id": "Ij2xsnBlETuR",
        "colab_type": "code",
        "colab": {}
      },
      "cell_type": "code",
      "source": [
        "def dataDriveExtract(id, file):\n",
        "  \n",
        "  auth.authenticate_user()#Auth check\n",
        "  gauth = GoogleAuth() #google Auth Instance\n",
        "  gauth.credentials = GoogleCredentials.get_application_default() # credential part\n",
        "  drive = GoogleDrive(gauth)# put the credential information to drive\n",
        "\n",
        "  downloaded = drive.CreateFile({'id':str(id)})# Specify the file location \n",
        "  downloaded.GetContentFile(file)# download the file with the file name\n",
        "  data = pd.read_csv(file, encoding = 'utf-8', index_col='time')  # load the data via pandas\n",
        "  data.index = pd.to_datetime(data.index) #Date Index formatting\n",
        "  return data\n",
        "\n",
        "\n",
        "con = \"weather\"\n",
        "if con == \"weather\":\n",
        "  data_weather = dataDriveExtract('1Y4-cvQC5aALc08HW5Q_7bnFphEONO1aW', 'EE-Weather-1985-2016.csv')\n",
        "  data_2016weather = data_weather[\"2016-01-01\":\"2016-12-31\"]\n",
        "  data_2016weather.info() # show data info\n",
        "#   print(data_2016weather.head()) # show data info\n",
        "#   print(data_2016weather.head(1))\n",
        "elif con == \"pv\":\n",
        "  data_pv = dataDriveExtract()\n",
        "  data_2016pv = data_weather[\"2016-01-01\":\"2016-12-31\"]\n",
        "  data.info() # show data info\n",
        "  \n"
      ],
      "execution_count": 0,
      "outputs": []
    },
    {
      "metadata": {
        "id": "tSzDHCYIFLHj",
        "colab_type": "code",
        "colab": {}
      },
      "cell_type": "code",
      "source": [
        "data_temp = data_2016weather.loc[:, 'temperature']\n",
        "data_temp.plot()\n",
        "data_temp.describe()"
      ],
      "execution_count": 0,
      "outputs": []
    },
    {
      "metadata": {
        "id": "Cz6qX4BDFlzD",
        "colab_type": "code",
        "colab": {}
      },
      "cell_type": "code",
      "source": [
        "#データ数をcount_sに代入\n",
        "count_s = len(data_temp)\n",
        "\n",
        "# 上昇率を格納するリストを作成\n",
        "inc_rate =[]\n",
        "#気温の上昇率を計算\n",
        "for i in range(1, count_s):\n",
        "  try:\n",
        "    #上昇率を計算する式\n",
        "    inc_rate.append(float(data_temp[i] - data_temp[i-1]) / float(data_temp[i-1]) )\n",
        "  except ZeroDivisionError:\n",
        "     #ゼロが分母にきた場合は、０に変換\n",
        "    inc_rate.append(0)\n",
        "\n",
        "#　気温上昇率のデータ数を格納\n",
        "count_m = len(inc_rate)\n",
        "#　気温上昇率のデータ数を表示\n",
        "print(count_m)"
      ],
      "execution_count": 0,
      "outputs": []
    },
    {
      "metadata": {
        "id": "nANB8geJRDxL",
        "colab_type": "code",
        "colab": {}
      },
      "cell_type": "code",
      "source": [
        "from sklearn import svm\n",
        "\n",
        "#前日までの4連続の上昇率データ\n",
        "successive_data = []\n",
        "\n",
        "# 正解値　価格上昇: 1 価格低下: 0\n",
        "answers = []\n",
        "\n",
        "lb = 7 # lookback number\n",
        "for i in range(lb, count_m):\n",
        "\n",
        "  successive_data.append([inc_rate[i-7], inc_rate[i-6], inc_rate[i-5], inc_rate[i-4], inc_rate[i-3], inc_rate[i-2], inc_rate[i-1]])\n",
        "\n",
        "  if inc_rate[i] > 0:\n",
        "    answers.append(1)\n",
        "  else:\n",
        "    answers.append(0)\n",
        "    \n",
        "# print(successive_data)\n",
        "# print(answers)"
      ],
      "execution_count": 0,
      "outputs": []
    },
    {
      "metadata": {
        "id": "X8TA6m0fyOuk",
        "colab_type": "code",
        "colab": {}
      },
      "cell_type": "code",
      "source": [
        "lb = 7\n",
        "k = 10\n",
        "l_2d_ok = [([i-k]) * lb for i in range(3+1)]\n",
        "print(l_2d_ok)"
      ],
      "execution_count": 0,
      "outputs": []
    },
    {
      "metadata": {
        "id": "MnBF8I-ZTcRO",
        "colab_type": "code",
        "colab": {}
      },
      "cell_type": "code",
      "source": [
        "#データ数\n",
        "n = len(successive_data)\n",
        "print(n)\n",
        "\n",
        "m = len(answers)\n",
        "print(m)"
      ],
      "execution_count": 0,
      "outputs": []
    },
    {
      "metadata": {
        "id": "rX5F2ueYUul6",
        "colab_type": "code",
        "colab": {}
      },
      "cell_type": "code",
      "source": [
        "#線形サポートベクタマシーン\n",
        "clf = svm.LinearSVC()\n",
        "\n",
        "tr= 8500\n",
        "# Training\n",
        "clf.fit(successive_data[:tr], answers[:tr])\n",
        "\n",
        "te = n - tr\n",
        "# Test\n",
        "expected = answers[te:]\n",
        "# predict\n",
        "predicted = clf.predict(successive_data[-te:])\n",
        "\n",
        "# 正解率計算\n",
        "correct = 0\n",
        "wrong = 0\n",
        "for i in range(te):\n",
        "  if expected[i] == predicted[i]:\n",
        "    correct += 1\n",
        "  else:\n",
        "    wrong += 1\n",
        "      \n",
        "print(\"正解率:  \" + str(correct / (correct+wrong) * 100)       + \"%\")"
      ],
      "execution_count": 0,
      "outputs": []
    },
    {
      "metadata": {
        "id": "avukkF8RVQrB",
        "colab_type": "code",
        "colab": {}
      },
      "cell_type": "code",
      "source": [
        "plt.figure(figsize=(20,8))\n",
        "plt.plot(expected[0:250])\n",
        "plt.plot(predicted[0:250])"
      ],
      "execution_count": 0,
      "outputs": []
    },
    {
      "metadata": {
        "id": "16gdkilOWGmm",
        "colab_type": "code",
        "colab": {}
      },
      "cell_type": "code",
      "source": [
        ""
      ],
      "execution_count": 0,
      "outputs": []
    }
  ]
}