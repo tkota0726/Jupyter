{
  "nbformat": 4,
  "nbformat_minor": 0,
  "metadata": {
    "colab": {
      "name": "DeepLeaningZero.ipynb",
      "version": "0.3.2",
      "provenance": [],
      "collapsed_sections": [],
      "include_colab_link": true
    },
    "kernelspec": {
      "name": "python3",
      "display_name": "Python 3"
    }
  },
  "cells": [
    {
      "cell_type": "markdown",
      "metadata": {
        "id": "view-in-github",
        "colab_type": "text"
      },
      "source": [
        "<a href=\"https://colab.research.google.com/github/tkota0726/Jupyter/blob/master/DeepLeaningZero.ipynb\" target=\"_parent\"><img src=\"https://colab.research.google.com/assets/colab-badge.svg\" alt=\"Open In Colab\"/></a>"
      ]
    },
    {
      "metadata": {
        "id": "ZI3k73sVS1_r",
        "colab_type": "code",
        "colab": {}
      },
      "cell_type": "code",
      "source": [
        ""
      ],
      "execution_count": 0,
      "outputs": []
    },
    {
      "metadata": {
        "id": "_YGb0GN-TGP4",
        "colab_type": "text"
      },
      "cell_type": "markdown",
      "source": [
        "## パーセプトロンの実装\n"
      ]
    },
    {
      "metadata": {
        "id": "Wj0NvN6iTIet",
        "colab_type": "code",
        "outputId": "59514931-d9c6-457f-90a3-051ba9af0ad7",
        "colab": {
          "base_uri": "https://localhost:8080/",
          "height": 87
        }
      },
      "cell_type": "code",
      "source": [
        "def AND(x1, x2):\n",
        "  w1, w2, theta = .5, .5, .7\n",
        "  tmp = x1*w1 + x2*w2\n",
        "  if tmp <= theta:\n",
        "    return 0\n",
        "  elif tmp > theta:\n",
        "    return 1\n",
        "  \n",
        "print(AND(0, 0))   #0\n",
        "print(AND(1, 0))   #0\n",
        "print(AND(0, 1))   #0\n",
        "print(AND(1, 1))   #1\n"
      ],
      "execution_count": 0,
      "outputs": [
        {
          "output_type": "stream",
          "text": [
            "0\n",
            "0\n",
            "0\n",
            "1\n"
          ],
          "name": "stdout"
        }
      ]
    },
    {
      "metadata": {
        "id": "OSiNK4vfX-73",
        "colab_type": "text"
      },
      "cell_type": "markdown",
      "source": [
        "## シグモイド関数"
      ]
    },
    {
      "metadata": {
        "id": "mAv8ME4iYHB3",
        "colab_type": "text"
      },
      "cell_type": "markdown",
      "source": [
        "$$ h(x) =  \\frac{\\mathrm{1} }{\\mathrm{1} + exp(-x) }  $$"
      ]
    },
    {
      "metadata": {
        "id": "UnHRjlOVYGI9",
        "colab_type": "code",
        "outputId": "005bd6ad-64e9-41a5-d394-46b0efa160c4",
        "colab": {
          "base_uri": "https://localhost:8080/",
          "height": 35
        }
      },
      "cell_type": "code",
      "source": [
        "def step_function(x):\n",
        "  if x < 0:\n",
        "    return 1\n",
        "  else:\n",
        "    return 0\n",
        "  \n",
        "step_function(0)\n"
      ],
      "execution_count": 0,
      "outputs": [
        {
          "output_type": "execute_result",
          "data": {
            "text/plain": [
              "0"
            ]
          },
          "metadata": {
            "tags": []
          },
          "execution_count": 1
        }
      ]
    },
    {
      "metadata": {
        "id": "bI6tI02ranAP",
        "colab_type": "code",
        "outputId": "77e47451-4099-40d8-ebd8-def69c1cd317",
        "colab": {
          "base_uri": "https://localhost:8080/",
          "height": 347
        }
      },
      "cell_type": "code",
      "source": [
        "def sigmoid(x):\n",
        "  return 1 / (1 + np.exp(-x))\n",
        "\n",
        "x = np.arange(-5, 5, 0.1)\n",
        "y = sigmoid(x)\n",
        "plt.plot(x, y)\n",
        "plt.ylim(-0.1, 1.1)\n",
        "plt.show()"
      ],
      "execution_count": 0,
      "outputs": [
        {
          "output_type": "display_data",
          "data": {
            "image/png": "[encoded data removed]",
            "text/plain": [
              "<Figure size 576x396 with 1 Axes>"
            ]
          },
          "metadata": {
            "tags": []
          }
        }
      ]
    },
    {
      "metadata": {
        "id": "GG6yY8gWbI5q",
        "colab_type": "text"
      },
      "cell_type": "markdown",
      "source": [
        "## ステップ関数\n"
      ]
    },
    {
      "metadata": {
        "id": "GPLqoRVkY7JV",
        "colab_type": "code",
        "outputId": "a0fe3324-6616-4437-f74a-5dd4d6d8894b",
        "colab": {
          "base_uri": "https://localhost:8080/",
          "height": 35
        }
      },
      "cell_type": "code",
      "source": [
        "import numpy as np\n",
        "\n",
        "## numpy での実装\n",
        "def step_function(x):\n",
        "  y = x > 0\n",
        "  return y.astype(np.int)\n",
        "\n",
        "step_function(np.array([1, 2]))"
      ],
      "execution_count": 0,
      "outputs": [
        {
          "output_type": "execute_result",
          "data": {
            "text/plain": [
              "array([1, 1])"
            ]
          },
          "metadata": {
            "tags": []
          },
          "execution_count": 12
        }
      ]
    },
    {
      "metadata": {
        "id": "LdS9larZbR4n",
        "colab_type": "code",
        "outputId": "db356267-5ac6-4c46-b5e8-360468509348",
        "colab": {
          "base_uri": "https://localhost:8080/",
          "height": 347
        }
      },
      "cell_type": "code",
      "source": [
        "import numpy as np \n",
        "import matplotlib.pylab as plt\n",
        "\n",
        "def ste_function(x):\n",
        "  return np.array(x>0, dtype=np.int)\n",
        "\n",
        "x = np.arange(-5, 5, 0.1)\n",
        "y = step_function(x)\n",
        "plt.plot(x, y)\n",
        "plt.ylim(-0.1, 1.1)\n",
        "plt.show()"
      ],
      "execution_count": 0,
      "outputs": [
        {
          "output_type": "display_data",
          "data": {
            "image/png": "[encoded data removed]",
            "text/plain": [
              "<Figure size 576x396 with 1 Axes>"
            ]
          },
          "metadata": {
            "tags": []
          }
        }
      ]
    },
    {
      "metadata": {
        "id": "GPB9aompblzq",
        "colab_type": "code",
        "colab": {}
      },
      "cell_type": "code",
      "source": [
        ""
      ],
      "execution_count": 0,
      "outputs": []
    },
    {
      "metadata": {
        "id": "D3b1DCE8w6Gt",
        "colab_type": "text"
      },
      "cell_type": "markdown",
      "source": [
        "## 3層ニューラルネットワーック"
      ]
    },
    {
      "metadata": {
        "id": "Rl4OOLF2w9FE",
        "colab_type": "code",
        "outputId": "6abe25cc-fa02-47ad-a92e-57da18db27b3",
        "colab": {
          "base_uri": "https://localhost:8080/",
          "height": 52
        }
      },
      "cell_type": "code",
      "source": [
        "def identity_function(x):\n",
        "  return x\n",
        "\n",
        "def init_network():\n",
        "  network = {}\n",
        "  network['W1'] = np.array([[0.1, 0.3, 0.5], [0.2, 0.4, 0.6]])\n",
        "  network['b1'] = np.array([0.1, 0.2, 0.3])\n",
        "  network['W2'] = np.array([[0.1, 0.4], [0.2, 0.5], [0.3, 0.6]])\n",
        "  network['b2'] = np.array([0.1, 0.2])\n",
        "  network['W3'] = np.array([[0.1, 0.3], [0.2, 0.4]])\n",
        "  network['b3'] = np.array([0.1, 0.2])\n",
        "  \n",
        "  return network\n",
        "\n",
        "\n",
        "def forward(network, x):\n",
        "  W1, W2, W3 = network['W1'], network['W2'], network['W3']\n",
        "  b1 ,  b2,  b3  = network['b1'],   network['b2'],    network['b3']\n",
        "  \n",
        "  a1 = np.dot(x, W1) + b1\n",
        "  z1 = sigmoid(a1)\n",
        "  print(z1)\n",
        "  a2 = np.dot(z1, W2) + b2\n",
        "  z2 = sigmoid(a2)\n",
        "  a3 = np.dot(z2, W3) + b3\n",
        "  y = identity_function(a3)\n",
        "  \n",
        "  return y\n",
        "\n",
        "\n",
        "network = init_network()\n",
        "x = np.array([1, 0.5])\n",
        "y = forward(network, x)\n",
        "print(y)\n",
        "  \n",
        "    "
      ],
      "execution_count": 0,
      "outputs": [
        {
          "output_type": "stream",
          "text": [
            "[0.57444252 0.66818777 0.75026011]\n",
            "[0.31682708 0.69627909]\n"
          ],
          "name": "stdout"
        }
      ]
    },
    {
      "metadata": {
        "id": "gCa-ml9w2Mcy",
        "colab_type": "code",
        "colab": {
          "base_uri": "https://localhost:8080/",
          "height": 289
        },
        "outputId": "a3dbe43d-203f-4118-e3d4-890b068fd3f7"
      },
      "cell_type": "code",
      "source": [
        "# Import tensorflow's MNIST data handle\n",
        "from keras.datasets import mnist\n",
        "import numpy as np\n",
        "import matplotlib.pyplot as plt\n",
        "\n",
        "(x_train, t_train), (x_test, t_test) = mnist.load_data()\n",
        "\n",
        "x_train = np.reshape(x_train, (-1, 784)).astype('float32')\n",
        "x_test = np.reshape(x_test, (-1, 784)).astype('float32')\n",
        "\n",
        "print(x_train.shape)\n",
        "print(x_train[:5])\n",
        "print(t_train.shape)\n",
        "print(t_train[:5])\n",
        "print(x_test.shape)\n",
        "print(x_test[:5])\n",
        "print(t_test.shape)\n",
        "print(t_test[:5])"
      ],
      "execution_count": 49,
      "outputs": [
        {
          "output_type": "stream",
          "text": [
            "(60000, 784)\n",
            "[[0. 0. 0. ... 0. 0. 0.]\n",
            " [0. 0. 0. ... 0. 0. 0.]\n",
            " [0. 0. 0. ... 0. 0. 0.]\n",
            " [0. 0. 0. ... 0. 0. 0.]\n",
            " [0. 0. 0. ... 0. 0. 0.]]\n",
            "(60000,)\n",
            "[5 0 4 1 9]\n",
            "(10000, 784)\n",
            "[[0. 0. 0. ... 0. 0. 0.]\n",
            " [0. 0. 0. ... 0. 0. 0.]\n",
            " [0. 0. 0. ... 0. 0. 0.]\n",
            " [0. 0. 0. ... 0. 0. 0.]\n",
            " [0. 0. 0. ... 0. 0. 0.]]\n",
            "(10000,)\n",
            "[7 2 1 0 4]\n"
          ],
          "name": "stdout"
        }
      ]
    },
    {
      "metadata": {
        "id": "jWbe-X3L5krb",
        "colab_type": "code",
        "colab": {
          "base_uri": "https://localhost:8080/",
          "height": 316
        },
        "outputId": "23001762-9b7b-464d-e9ac-a8e4082146a5"
      },
      "cell_type": "code",
      "source": [
        "from PIL import Image\n",
        "from matplotlib.pyplot import imshow\n",
        "%matplotlib inline \n",
        "\n",
        "def img_show(img):\n",
        "  pil_img = Image.fromarray(np.uint8(img))\n",
        "  imshow(pil_img)\n",
        "  \n",
        "  \n",
        "img = x_train[0]\n",
        "label = t_train[0]\n",
        "print(label)\n",
        "print(img.shape)\n",
        "\n",
        "#画像表示のためにreshapeする必要あり\n",
        "img_reshape = img.reshape(28, 28)\n",
        "print(img_reshape.shape)\n",
        "\n",
        "img_show(img_reshape)"
      ],
      "execution_count": 59,
      "outputs": [
        {
          "output_type": "stream",
          "text": [
            "5\n",
            "(784,)\n",
            "(28, 28)\n"
          ],
          "name": "stdout"
        },
        {
          "output_type": "display_data",
          "data": {
            "image/png": "[encoded data removed]",
            "text/plain": [
              "<Figure size 432x288 with 1 Axes>"
            ]
          },
          "metadata": {
            "tags": []
          }
        }
      ]
    },
    {
      "metadata": {
        "id": "nRrufCB0CLaW",
        "colab_type": "code",
        "colab": {}
      },
      "cell_type": "code",
      "source": [
        ""
      ],
      "execution_count": 0,
      "outputs": []
    }
  ]
}